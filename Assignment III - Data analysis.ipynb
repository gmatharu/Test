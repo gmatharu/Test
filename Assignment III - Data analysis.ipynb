{
 "cells": [
  {
   "cell_type": "markdown",
   "metadata": {},
   "source": [
    "<center> **Q3 **</center>\n",
    "  <center>  **Data Analysis** </center>"
   ]
  },
  {
   "cell_type": "markdown",
   "metadata": {},
   "source": [
    "**PART 1**"
   ]
  },
  {
   "cell_type": "markdown",
   "metadata": {},
   "source": [
    "Lets import the data:"
   ]
  },
  {
   "cell_type": "code",
   "execution_count": 1,
   "metadata": {},
   "outputs": [],
   "source": [
    "import pandas as pd\n",
    "pd.options.mode.chained_assignment = None\n",
    "customers = pd.read_csv('customer_data.csv')\n",
    "requests = pd.read_csv('request_data.csv')\n"
   ]
  },
  {
   "cell_type": "markdown",
   "metadata": {},
   "source": [
    "The file **customer_data.csv** contains the customers information, most importantly whether the customer_id was fraudulent or not and whether we suspected the customer to be fradulent or not.\n",
    "\n",
    "The file **request_data.csv** contains the transfer requests the customers made.\n",
    "\n",
    "Both the files combined contains information about normal and fraudulent customers, so we can explore the different features what might point to a fraudulent customer and potentially can create a simple model which can help us classify normal/fraudulent customers.\n",
    "\n",
    "Lets join the customers and requests dataframe, for answering part 2."
   ]
  },
  {
   "cell_type": "markdown",
   "metadata": {},
   "source": [
    "**PART 2**"
   ]
  },
  {
   "cell_type": "markdown",
   "metadata": {},
   "source": [
    "Lets check and remove the duplicates from customers and requests dataframes:"
   ]
  },
  {
   "cell_type": "code",
   "execution_count": 2,
   "metadata": {},
   "outputs": [
    {
     "data": {
      "text/plain": [
       "39"
      ]
     },
     "execution_count": 2,
     "metadata": {},
     "output_type": "execute_result"
    }
   ],
   "source": [
    "customers.duplicated().sum()"
   ]
  },
  {
   "cell_type": "code",
   "execution_count": 3,
   "metadata": {},
   "outputs": [
    {
     "data": {
      "text/plain": [
       "0"
      ]
     },
     "execution_count": 3,
     "metadata": {},
     "output_type": "execute_result"
    }
   ],
   "source": [
    "requests.duplicated().sum()"
   ]
  },
  {
   "cell_type": "markdown",
   "metadata": {},
   "source": [
    "Since customers have duplicates, lets remove them:"
   ]
  },
  {
   "cell_type": "code",
   "execution_count": 4,
   "metadata": {},
   "outputs": [],
   "source": [
    "customers = customers[~customers.duplicated()]"
   ]
  },
  {
   "cell_type": "code",
   "execution_count": 5,
   "metadata": {},
   "outputs": [
    {
     "data": {
      "text/plain": [
       "0"
      ]
     },
     "execution_count": 5,
     "metadata": {},
     "output_type": "execute_result"
    }
   ],
   "source": [
    "customers.duplicated().sum()"
   ]
  },
  {
   "cell_type": "markdown",
   "metadata": {},
   "source": [
    "Lets join customers and requests for joint analysis:"
   ]
  },
  {
   "cell_type": "code",
   "execution_count": 6,
   "metadata": {},
   "outputs": [],
   "source": [
    "joineddf = customers.merge(requests, on='customer_id', how='inner')"
   ]
  },
  {
   "cell_type": "markdown",
   "metadata": {},
   "source": [
    "Now we can explore the fraudulent customers and their requests by filtering the **joineddf** to **frauddf** for fradulent customers.\n",
    "\n",
    "As is clear from below summary of **frauddf**, we can make below infereneces:\n",
    "\n",
    "1. On an average the fradulent customers managed to make around 2 transactions.\n",
    "2. The average age of fraudlent customer is around 47 years.\n",
    "3. On an average the cst profile was active for 20 days.\n",
    "4. Average amount the fraudulent customer requested was 891 Euro's."
   ]
  },
  {
   "cell_type": "code",
   "execution_count": 7,
   "metadata": {},
   "outputs": [
    {
     "data": {
      "text/html": [
       "<div>\n",
       "<style scoped>\n",
       "    .dataframe tbody tr th:only-of-type {\n",
       "        vertical-align: middle;\n",
       "    }\n",
       "\n",
       "    .dataframe tbody tr th {\n",
       "        vertical-align: top;\n",
       "    }\n",
       "\n",
       "    .dataframe thead th {\n",
       "        text-align: right;\n",
       "    }\n",
       "</style>\n",
       "<table border=\"1\" class=\"dataframe\">\n",
       "  <thead>\n",
       "    <tr style=\"text-align: right;\">\n",
       "      <th></th>\n",
       "      <th>cst_successful_transfers_cnt</th>\n",
       "      <th>cst_age</th>\n",
       "      <th>cst_profile_age_days</th>\n",
       "      <th>fraudulent_cst</th>\n",
       "      <th>suspicious_cst</th>\n",
       "      <th>amount_eur</th>\n",
       "    </tr>\n",
       "  </thead>\n",
       "  <tbody>\n",
       "    <tr>\n",
       "      <th>count</th>\n",
       "      <td>149.000000</td>\n",
       "      <td>149.000000</td>\n",
       "      <td>149.000000</td>\n",
       "      <td>149.0</td>\n",
       "      <td>149.000000</td>\n",
       "      <td>149.000000</td>\n",
       "    </tr>\n",
       "    <tr>\n",
       "      <th>mean</th>\n",
       "      <td>1.785235</td>\n",
       "      <td>46.946309</td>\n",
       "      <td>20.463087</td>\n",
       "      <td>1.0</td>\n",
       "      <td>0.563758</td>\n",
       "      <td>890.722013</td>\n",
       "    </tr>\n",
       "    <tr>\n",
       "      <th>std</th>\n",
       "      <td>1.216796</td>\n",
       "      <td>14.778447</td>\n",
       "      <td>25.606039</td>\n",
       "      <td>0.0</td>\n",
       "      <td>0.497591</td>\n",
       "      <td>777.620694</td>\n",
       "    </tr>\n",
       "    <tr>\n",
       "      <th>min</th>\n",
       "      <td>1.000000</td>\n",
       "      <td>19.000000</td>\n",
       "      <td>7.000000</td>\n",
       "      <td>1.0</td>\n",
       "      <td>0.000000</td>\n",
       "      <td>5.000000</td>\n",
       "    </tr>\n",
       "    <tr>\n",
       "      <th>25%</th>\n",
       "      <td>1.000000</td>\n",
       "      <td>34.000000</td>\n",
       "      <td>13.000000</td>\n",
       "      <td>1.0</td>\n",
       "      <td>0.000000</td>\n",
       "      <td>276.310000</td>\n",
       "    </tr>\n",
       "    <tr>\n",
       "      <th>50%</th>\n",
       "      <td>1.000000</td>\n",
       "      <td>46.000000</td>\n",
       "      <td>19.000000</td>\n",
       "      <td>1.0</td>\n",
       "      <td>1.000000</td>\n",
       "      <td>670.140000</td>\n",
       "    </tr>\n",
       "    <tr>\n",
       "      <th>75%</th>\n",
       "      <td>2.000000</td>\n",
       "      <td>59.000000</td>\n",
       "      <td>24.000000</td>\n",
       "      <td>1.0</td>\n",
       "      <td>1.000000</td>\n",
       "      <td>1345.630000</td>\n",
       "    </tr>\n",
       "    <tr>\n",
       "      <th>max</th>\n",
       "      <td>7.000000</td>\n",
       "      <td>81.000000</td>\n",
       "      <td>321.000000</td>\n",
       "      <td>1.0</td>\n",
       "      <td>1.000000</td>\n",
       "      <td>4294.810000</td>\n",
       "    </tr>\n",
       "  </tbody>\n",
       "</table>\n",
       "</div>"
      ],
      "text/plain": [
       "       cst_successful_transfers_cnt     cst_age  cst_profile_age_days  \\\n",
       "count                    149.000000  149.000000            149.000000   \n",
       "mean                       1.785235   46.946309             20.463087   \n",
       "std                        1.216796   14.778447             25.606039   \n",
       "min                        1.000000   19.000000              7.000000   \n",
       "25%                        1.000000   34.000000             13.000000   \n",
       "50%                        1.000000   46.000000             19.000000   \n",
       "75%                        2.000000   59.000000             24.000000   \n",
       "max                        7.000000   81.000000            321.000000   \n",
       "\n",
       "       fraudulent_cst  suspicious_cst   amount_eur  \n",
       "count           149.0      149.000000   149.000000  \n",
       "mean              1.0        0.563758   890.722013  \n",
       "std               0.0        0.497591   777.620694  \n",
       "min               1.0        0.000000     5.000000  \n",
       "25%               1.0        0.000000   276.310000  \n",
       "50%               1.0        1.000000   670.140000  \n",
       "75%               1.0        1.000000  1345.630000  \n",
       "max               1.0        1.000000  4294.810000  "
      ]
     },
     "execution_count": 7,
     "metadata": {},
     "output_type": "execute_result"
    }
   ],
   "source": [
    "frauddf = joineddf[joineddf.fraudulent_cst==1]\n",
    "frauddf.describe()"
   ]
  },
  {
   "cell_type": "markdown",
   "metadata": {},
   "source": [
    "Now lets compare these features for non-fraudulent customers:"
   ]
  },
  {
   "cell_type": "code",
   "execution_count": 8,
   "metadata": {},
   "outputs": [
    {
     "data": {
      "text/html": [
       "<div>\n",
       "<style scoped>\n",
       "    .dataframe tbody tr th:only-of-type {\n",
       "        vertical-align: middle;\n",
       "    }\n",
       "\n",
       "    .dataframe tbody tr th {\n",
       "        vertical-align: top;\n",
       "    }\n",
       "\n",
       "    .dataframe thead th {\n",
       "        text-align: right;\n",
       "    }\n",
       "</style>\n",
       "<table border=\"1\" class=\"dataframe\">\n",
       "  <thead>\n",
       "    <tr style=\"text-align: right;\">\n",
       "      <th></th>\n",
       "      <th>cst_successful_transfers_cnt</th>\n",
       "      <th>cst_age</th>\n",
       "      <th>cst_profile_age_days</th>\n",
       "      <th>fraudulent_cst</th>\n",
       "      <th>suspicious_cst</th>\n",
       "      <th>amount_eur</th>\n",
       "    </tr>\n",
       "  </thead>\n",
       "  <tbody>\n",
       "    <tr>\n",
       "      <th>count</th>\n",
       "      <td>2000.000000</td>\n",
       "      <td>1852.000000</td>\n",
       "      <td>2000.00000</td>\n",
       "      <td>2000.0</td>\n",
       "      <td>2000.000000</td>\n",
       "      <td>2000.000000</td>\n",
       "    </tr>\n",
       "    <tr>\n",
       "      <th>mean</th>\n",
       "      <td>15.761000</td>\n",
       "      <td>35.626890</td>\n",
       "      <td>222.20350</td>\n",
       "      <td>0.0</td>\n",
       "      <td>0.049000</td>\n",
       "      <td>1691.055745</td>\n",
       "    </tr>\n",
       "    <tr>\n",
       "      <th>std</th>\n",
       "      <td>76.142917</td>\n",
       "      <td>11.966394</td>\n",
       "      <td>215.39989</td>\n",
       "      <td>0.0</td>\n",
       "      <td>0.215922</td>\n",
       "      <td>4811.542584</td>\n",
       "    </tr>\n",
       "    <tr>\n",
       "      <th>min</th>\n",
       "      <td>1.000000</td>\n",
       "      <td>18.000000</td>\n",
       "      <td>7.00000</td>\n",
       "      <td>0.0</td>\n",
       "      <td>0.000000</td>\n",
       "      <td>2.690000</td>\n",
       "    </tr>\n",
       "    <tr>\n",
       "      <th>25%</th>\n",
       "      <td>2.000000</td>\n",
       "      <td>27.000000</td>\n",
       "      <td>39.00000</td>\n",
       "      <td>0.0</td>\n",
       "      <td>0.000000</td>\n",
       "      <td>188.180000</td>\n",
       "    </tr>\n",
       "    <tr>\n",
       "      <th>50%</th>\n",
       "      <td>5.000000</td>\n",
       "      <td>32.000000</td>\n",
       "      <td>164.00000</td>\n",
       "      <td>0.0</td>\n",
       "      <td>0.000000</td>\n",
       "      <td>520.090000</td>\n",
       "    </tr>\n",
       "    <tr>\n",
       "      <th>75%</th>\n",
       "      <td>11.000000</td>\n",
       "      <td>41.000000</td>\n",
       "      <td>337.00000</td>\n",
       "      <td>0.0</td>\n",
       "      <td>0.000000</td>\n",
       "      <td>1387.495000</td>\n",
       "    </tr>\n",
       "    <tr>\n",
       "      <th>max</th>\n",
       "      <td>1307.000000</td>\n",
       "      <td>85.000000</td>\n",
       "      <td>1284.00000</td>\n",
       "      <td>0.0</td>\n",
       "      <td>1.000000</td>\n",
       "      <td>98682.290000</td>\n",
       "    </tr>\n",
       "  </tbody>\n",
       "</table>\n",
       "</div>"
      ],
      "text/plain": [
       "       cst_successful_transfers_cnt      cst_age  cst_profile_age_days  \\\n",
       "count                   2000.000000  1852.000000            2000.00000   \n",
       "mean                      15.761000    35.626890             222.20350   \n",
       "std                       76.142917    11.966394             215.39989   \n",
       "min                        1.000000    18.000000               7.00000   \n",
       "25%                        2.000000    27.000000              39.00000   \n",
       "50%                        5.000000    32.000000             164.00000   \n",
       "75%                       11.000000    41.000000             337.00000   \n",
       "max                     1307.000000    85.000000            1284.00000   \n",
       "\n",
       "       fraudulent_cst  suspicious_cst    amount_eur  \n",
       "count          2000.0     2000.000000   2000.000000  \n",
       "mean              0.0        0.049000   1691.055745  \n",
       "std               0.0        0.215922   4811.542584  \n",
       "min               0.0        0.000000      2.690000  \n",
       "25%               0.0        0.000000    188.180000  \n",
       "50%               0.0        0.000000    520.090000  \n",
       "75%               0.0        0.000000   1387.495000  \n",
       "max               0.0        1.000000  98682.290000  "
      ]
     },
     "execution_count": 8,
     "metadata": {},
     "output_type": "execute_result"
    }
   ],
   "source": [
    "nfrauddf = joineddf[joineddf.fraudulent_cst==0]\n",
    "nfrauddf.describe()"
   ]
  },
  {
   "cell_type": "markdown",
   "metadata": {},
   "source": [
    "1. On an average the non-fradulent customers made around 16 transactions.\n",
    "2. The average age of non-fraudlent customer is around 36 years.\n",
    "3. On an average the cst profile was active for 222 days.\n",
    "4. Average amount the fraudulent customer requested was 1691 Euro's.\n",
    "\n",
    "**So in comparison, we can say that fradulent customers make less requests, are usually more older than non-fradulent customers, their profile is quite new, and they request almost half the amount than non-fradulent customers.**"
   ]
  },
  {
   "cell_type": "markdown",
   "metadata": {},
   "source": [
    "Below are the summary statistics for the customer which our system did not suspect to be fraudulent. As we can observe they have almost the same feastures as the fraudulent customers on an average."
   ]
  },
  {
   "cell_type": "code",
   "execution_count": 9,
   "metadata": {},
   "outputs": [
    {
     "data": {
      "text/html": [
       "<div>\n",
       "<style scoped>\n",
       "    .dataframe tbody tr th:only-of-type {\n",
       "        vertical-align: middle;\n",
       "    }\n",
       "\n",
       "    .dataframe tbody tr th {\n",
       "        vertical-align: top;\n",
       "    }\n",
       "\n",
       "    .dataframe thead th {\n",
       "        text-align: right;\n",
       "    }\n",
       "</style>\n",
       "<table border=\"1\" class=\"dataframe\">\n",
       "  <thead>\n",
       "    <tr style=\"text-align: right;\">\n",
       "      <th></th>\n",
       "      <th>cst_successful_transfers_cnt</th>\n",
       "      <th>cst_age</th>\n",
       "      <th>cst_profile_age_days</th>\n",
       "      <th>fraudulent_cst</th>\n",
       "      <th>suspicious_cst</th>\n",
       "      <th>amount_eur</th>\n",
       "    </tr>\n",
       "  </thead>\n",
       "  <tbody>\n",
       "    <tr>\n",
       "      <th>count</th>\n",
       "      <td>65.000000</td>\n",
       "      <td>65.000000</td>\n",
       "      <td>65.000000</td>\n",
       "      <td>65.0</td>\n",
       "      <td>65.0</td>\n",
       "      <td>65.000000</td>\n",
       "    </tr>\n",
       "    <tr>\n",
       "      <th>mean</th>\n",
       "      <td>1.830769</td>\n",
       "      <td>49.276923</td>\n",
       "      <td>24.261538</td>\n",
       "      <td>1.0</td>\n",
       "      <td>0.0</td>\n",
       "      <td>1038.822769</td>\n",
       "    </tr>\n",
       "    <tr>\n",
       "      <th>std</th>\n",
       "      <td>1.083531</td>\n",
       "      <td>15.749512</td>\n",
       "      <td>37.863768</td>\n",
       "      <td>0.0</td>\n",
       "      <td>0.0</td>\n",
       "      <td>762.787909</td>\n",
       "    </tr>\n",
       "    <tr>\n",
       "      <th>min</th>\n",
       "      <td>1.000000</td>\n",
       "      <td>19.000000</td>\n",
       "      <td>7.000000</td>\n",
       "      <td>1.0</td>\n",
       "      <td>0.0</td>\n",
       "      <td>5.000000</td>\n",
       "    </tr>\n",
       "    <tr>\n",
       "      <th>25%</th>\n",
       "      <td>1.000000</td>\n",
       "      <td>37.000000</td>\n",
       "      <td>15.000000</td>\n",
       "      <td>1.0</td>\n",
       "      <td>0.0</td>\n",
       "      <td>411.640000</td>\n",
       "    </tr>\n",
       "    <tr>\n",
       "      <th>50%</th>\n",
       "      <td>2.000000</td>\n",
       "      <td>46.000000</td>\n",
       "      <td>21.000000</td>\n",
       "      <td>1.0</td>\n",
       "      <td>0.0</td>\n",
       "      <td>1004.000000</td>\n",
       "    </tr>\n",
       "    <tr>\n",
       "      <th>75%</th>\n",
       "      <td>2.000000</td>\n",
       "      <td>61.000000</td>\n",
       "      <td>25.000000</td>\n",
       "      <td>1.0</td>\n",
       "      <td>0.0</td>\n",
       "      <td>1410.000000</td>\n",
       "    </tr>\n",
       "    <tr>\n",
       "      <th>max</th>\n",
       "      <td>7.000000</td>\n",
       "      <td>81.000000</td>\n",
       "      <td>321.000000</td>\n",
       "      <td>1.0</td>\n",
       "      <td>0.0</td>\n",
       "      <td>3983.240000</td>\n",
       "    </tr>\n",
       "  </tbody>\n",
       "</table>\n",
       "</div>"
      ],
      "text/plain": [
       "       cst_successful_transfers_cnt    cst_age  cst_profile_age_days  \\\n",
       "count                     65.000000  65.000000             65.000000   \n",
       "mean                       1.830769  49.276923             24.261538   \n",
       "std                        1.083531  15.749512             37.863768   \n",
       "min                        1.000000  19.000000              7.000000   \n",
       "25%                        1.000000  37.000000             15.000000   \n",
       "50%                        2.000000  46.000000             21.000000   \n",
       "75%                        2.000000  61.000000             25.000000   \n",
       "max                        7.000000  81.000000            321.000000   \n",
       "\n",
       "       fraudulent_cst  suspicious_cst   amount_eur  \n",
       "count            65.0            65.0    65.000000  \n",
       "mean              1.0             0.0  1038.822769  \n",
       "std               0.0             0.0   762.787909  \n",
       "min               1.0             0.0     5.000000  \n",
       "25%               1.0             0.0   411.640000  \n",
       "50%               1.0             0.0  1004.000000  \n",
       "75%               1.0             0.0  1410.000000  \n",
       "max               1.0             0.0  3983.240000  "
      ]
     },
     "execution_count": 9,
     "metadata": {},
     "output_type": "execute_result"
    }
   ],
   "source": [
    "missed_customers = joineddf[(joineddf.fraudulent_cst == 1)&(joineddf.suspicious_cst == 0)]\n",
    "missed_customers.describe()"
   ]
  },
  {
   "cell_type": "markdown",
   "metadata": {},
   "source": [
    "Below are the summary statistics for the customer which our system did suspect to be fraudulent. As we can observe they have almost the same feastures as the fraudulent customers on an average."
   ]
  },
  {
   "cell_type": "code",
   "execution_count": 10,
   "metadata": {},
   "outputs": [
    {
     "data": {
      "text/html": [
       "<div>\n",
       "<style scoped>\n",
       "    .dataframe tbody tr th:only-of-type {\n",
       "        vertical-align: middle;\n",
       "    }\n",
       "\n",
       "    .dataframe tbody tr th {\n",
       "        vertical-align: top;\n",
       "    }\n",
       "\n",
       "    .dataframe thead th {\n",
       "        text-align: right;\n",
       "    }\n",
       "</style>\n",
       "<table border=\"1\" class=\"dataframe\">\n",
       "  <thead>\n",
       "    <tr style=\"text-align: right;\">\n",
       "      <th></th>\n",
       "      <th>cst_successful_transfers_cnt</th>\n",
       "      <th>cst_age</th>\n",
       "      <th>cst_profile_age_days</th>\n",
       "      <th>fraudulent_cst</th>\n",
       "      <th>suspicious_cst</th>\n",
       "      <th>amount_eur</th>\n",
       "    </tr>\n",
       "  </thead>\n",
       "  <tbody>\n",
       "    <tr>\n",
       "      <th>count</th>\n",
       "      <td>84.000000</td>\n",
       "      <td>84.000000</td>\n",
       "      <td>84.000000</td>\n",
       "      <td>84.0</td>\n",
       "      <td>84.0</td>\n",
       "      <td>84.000000</td>\n",
       "    </tr>\n",
       "    <tr>\n",
       "      <th>mean</th>\n",
       "      <td>1.750000</td>\n",
       "      <td>45.142857</td>\n",
       "      <td>17.523810</td>\n",
       "      <td>1.0</td>\n",
       "      <td>1.0</td>\n",
       "      <td>776.120238</td>\n",
       "    </tr>\n",
       "    <tr>\n",
       "      <th>std</th>\n",
       "      <td>1.316027</td>\n",
       "      <td>13.806880</td>\n",
       "      <td>6.604993</td>\n",
       "      <td>0.0</td>\n",
       "      <td>0.0</td>\n",
       "      <td>774.034025</td>\n",
       "    </tr>\n",
       "    <tr>\n",
       "      <th>min</th>\n",
       "      <td>1.000000</td>\n",
       "      <td>19.000000</td>\n",
       "      <td>7.000000</td>\n",
       "      <td>1.0</td>\n",
       "      <td>1.0</td>\n",
       "      <td>10.000000</td>\n",
       "    </tr>\n",
       "    <tr>\n",
       "      <th>25%</th>\n",
       "      <td>1.000000</td>\n",
       "      <td>34.000000</td>\n",
       "      <td>11.000000</td>\n",
       "      <td>1.0</td>\n",
       "      <td>1.0</td>\n",
       "      <td>201.840000</td>\n",
       "    </tr>\n",
       "    <tr>\n",
       "      <th>50%</th>\n",
       "      <td>1.000000</td>\n",
       "      <td>42.000000</td>\n",
       "      <td>17.000000</td>\n",
       "      <td>1.0</td>\n",
       "      <td>1.0</td>\n",
       "      <td>539.060000</td>\n",
       "    </tr>\n",
       "    <tr>\n",
       "      <th>75%</th>\n",
       "      <td>2.000000</td>\n",
       "      <td>58.000000</td>\n",
       "      <td>24.000000</td>\n",
       "      <td>1.0</td>\n",
       "      <td>1.0</td>\n",
       "      <td>963.470000</td>\n",
       "    </tr>\n",
       "    <tr>\n",
       "      <th>max</th>\n",
       "      <td>5.000000</td>\n",
       "      <td>74.000000</td>\n",
       "      <td>29.000000</td>\n",
       "      <td>1.0</td>\n",
       "      <td>1.0</td>\n",
       "      <td>4294.810000</td>\n",
       "    </tr>\n",
       "  </tbody>\n",
       "</table>\n",
       "</div>"
      ],
      "text/plain": [
       "       cst_successful_transfers_cnt    cst_age  cst_profile_age_days  \\\n",
       "count                     84.000000  84.000000             84.000000   \n",
       "mean                       1.750000  45.142857             17.523810   \n",
       "std                        1.316027  13.806880              6.604993   \n",
       "min                        1.000000  19.000000              7.000000   \n",
       "25%                        1.000000  34.000000             11.000000   \n",
       "50%                        1.000000  42.000000             17.000000   \n",
       "75%                        2.000000  58.000000             24.000000   \n",
       "max                        5.000000  74.000000             29.000000   \n",
       "\n",
       "       fraudulent_cst  suspicious_cst   amount_eur  \n",
       "count            84.0            84.0    84.000000  \n",
       "mean              1.0             1.0   776.120238  \n",
       "std               0.0             0.0   774.034025  \n",
       "min               1.0             1.0    10.000000  \n",
       "25%               1.0             1.0   201.840000  \n",
       "50%               1.0             1.0   539.060000  \n",
       "75%               1.0             1.0   963.470000  \n",
       "max               1.0             1.0  4294.810000  "
      ]
     },
     "execution_count": 10,
     "metadata": {},
     "output_type": "execute_result"
    }
   ],
   "source": [
    "picked_customers = joineddf[(joineddf.fraudulent_cst == 1)&(joineddf.suspicious_cst == 1)]\n",
    "picked_customers.describe()"
   ]
  },
  {
   "cell_type": "markdown",
   "metadata": {},
   "source": [
    "Now lets explore some non-numeric features:"
   ]
  },
  {
   "cell_type": "code",
   "execution_count": 11,
   "metadata": {},
   "outputs": [
    {
     "data": {
      "text/plain": [
       "Index(['customer_id', 'cst_successful_transfers_cnt', 'cst_age',\n",
       "       'customer_address_country', 'cst_profile_age_days', 'fraudulent_cst',\n",
       "       'suspicious_cst', 'request_id', 'request_date', 'source_currency',\n",
       "       'destination_currency', 'target_recipient_id', 'payment_type',\n",
       "       'amount_eur'],\n",
       "      dtype='object')"
      ]
     },
     "execution_count": 11,
     "metadata": {},
     "output_type": "execute_result"
    }
   ],
   "source": [
    "frauddf.columns"
   ]
  },
  {
   "cell_type": "markdown",
   "metadata": {},
   "source": [
    "As we can see the most frequent coutries from which the fraudulent customers come are **gbr,deu, usa and irl**, which coincide with the fact that most customers in this dataset are from these countries."
   ]
  },
  {
   "cell_type": "code",
   "execution_count": 12,
   "metadata": {},
   "outputs": [
    {
     "data": {
      "text/plain": [
       "gbr    66\n",
       "deu    40\n",
       "usa    15\n",
       "irl     8\n",
       "swe     5\n",
       "ita     3\n",
       "nor     2\n",
       "phl     1\n",
       "dnk     1\n",
       "aus     1\n",
       "egy     1\n",
       "ltu     1\n",
       "lux     1\n",
       "bel     1\n",
       "fra     1\n",
       "esp     1\n",
       "nld     1\n",
       "Name: customer_address_country, dtype: int64"
      ]
     },
     "execution_count": 12,
     "metadata": {},
     "output_type": "execute_result"
    }
   ],
   "source": [
    "frauddf.customer_address_country.value_counts()"
   ]
  },
  {
   "cell_type": "code",
   "execution_count": 13,
   "metadata": {},
   "outputs": [
    {
     "data": {
      "text/plain": [
       "gbr    1159\n",
       "usa     152\n",
       "esp     114\n",
       "deu      97\n",
       "fra      58\n",
       "irl      47\n",
       "aus      36\n",
       "nld      35\n",
       "pol      28\n",
       "ita      24\n",
       "swe      23\n",
       "hun      23\n",
       "dnk      22\n",
       "che      21\n",
       "bel      20\n",
       "est      14\n",
       "bgr      13\n",
       "fin      12\n",
       "ind      12\n",
       "nor      11\n",
       "aut      11\n",
       "can       9\n",
       "prt       7\n",
       "gib       6\n",
       "cze       6\n",
       "rou       6\n",
       "svk       5\n",
       "nzl       4\n",
       "sgp       4\n",
       "cyp       3\n",
       "lux       3\n",
       "mys       3\n",
       "mlt       3\n",
       "mex       1\n",
       "srb       1\n",
       "ggy       1\n",
       "geo       1\n",
       "grc       1\n",
       "nga       1\n",
       "hkg       1\n",
       "ncl       1\n",
       "are       1\n",
       "Name: customer_address_country, dtype: int64"
      ]
     },
     "execution_count": 13,
     "metadata": {},
     "output_type": "execute_result"
    }
   ],
   "source": [
    "nfrauddf.customer_address_country.value_counts()"
   ]
  },
  {
   "cell_type": "markdown",
   "metadata": {},
   "source": [
    "From below data we can see that the common source currency fraudulent customers request for transfer are **GBP, EUR and USD**."
   ]
  },
  {
   "cell_type": "code",
   "execution_count": 14,
   "metadata": {},
   "outputs": [
    {
     "data": {
      "text/plain": [
       "GBP    65\n",
       "EUR    62\n",
       "USD    13\n",
       "SEK     5\n",
       "NOK     2\n",
       "DKK     1\n",
       "AUD     1\n",
       "Name: source_currency, dtype: int64"
      ]
     },
     "execution_count": 14,
     "metadata": {},
     "output_type": "execute_result"
    }
   ],
   "source": [
    "frauddf.source_currency.value_counts()"
   ]
  },
  {
   "cell_type": "code",
   "execution_count": 15,
   "metadata": {},
   "outputs": [
    {
     "data": {
      "text/plain": [
       "GBP    1248\n",
       "EUR     420\n",
       "USD     150\n",
       "AUD      41\n",
       "SEK      30\n",
       "CHF      23\n",
       "DKK      23\n",
       "PLN      18\n",
       "HUF      16\n",
       "NOK      11\n",
       "CZK       9\n",
       "BGN       7\n",
       "RON       3\n",
       "GEL       1\n",
       "Name: source_currency, dtype: int64"
      ]
     },
     "execution_count": 15,
     "metadata": {},
     "output_type": "execute_result"
    }
   ],
   "source": [
    "nfrauddf.source_currency.value_counts()"
   ]
  },
  {
   "cell_type": "markdown",
   "metadata": {},
   "source": [
    "We can see from below that the faviorite destination currencies for the fraudulent customers are: **PHP, INR EUR and GBP**. In comparison non-fraudulent customers commonly transfer to **EUR,GBP,INR,USD and HUF**. So we should look at the customers transferring to **PHP**."
   ]
  },
  {
   "cell_type": "code",
   "execution_count": 16,
   "metadata": {},
   "outputs": [
    {
     "data": {
      "text/plain": [
       "PHP    33\n",
       "INR    29\n",
       "EUR    28\n",
       "GBP    21\n",
       "NGN     8\n",
       "BRL     5\n",
       "IDR     4\n",
       "USD     4\n",
       "HUF     3\n",
       "PLN     3\n",
       "PKR     3\n",
       "CZK     2\n",
       "AUD     2\n",
       "MAD     1\n",
       "UAH     1\n",
       "TRY     1\n",
       "HKD     1\n",
       "Name: destination_currency, dtype: int64"
      ]
     },
     "execution_count": 16,
     "metadata": {},
     "output_type": "execute_result"
    }
   ],
   "source": [
    "frauddf.destination_currency.value_counts()"
   ]
  },
  {
   "cell_type": "code",
   "execution_count": 17,
   "metadata": {},
   "outputs": [
    {
     "data": {
      "text/plain": [
       "EUR    716\n",
       "GBP    290\n",
       "INR    260\n",
       "USD    162\n",
       "HUF    126\n",
       "PLN     87\n",
       "AUD     52\n",
       "BGN     34\n",
       "CAD     34\n",
       "BRL     32\n",
       "RON     24\n",
       "CZK     19\n",
       "NZD     19\n",
       "SEK     17\n",
       "MYR     15\n",
       "TRY     14\n",
       "NGN     14\n",
       "PKR     13\n",
       "PHP     11\n",
       "THB      9\n",
       "SGD      9\n",
       "HKD      8\n",
       "DKK      8\n",
       "CHF      6\n",
       "MXN      4\n",
       "CLP      4\n",
       "NOK      4\n",
       "UAH      2\n",
       "JPY      2\n",
       "AED      2\n",
       "IDR      1\n",
       "MAD      1\n",
       "GEL      1\n",
       "Name: destination_currency, dtype: int64"
      ]
     },
     "execution_count": 17,
     "metadata": {},
     "output_type": "execute_result"
    }
   ],
   "source": [
    "nfrauddf.destination_currency.value_counts()"
   ]
  },
  {
   "cell_type": "markdown",
   "metadata": {},
   "source": [
    "From below, we can infer that the common fraud payment type is **card**, which is also the common method for normal reuqests, so we should focus on card transactions for fraudlent behaviour."
   ]
  },
  {
   "cell_type": "code",
   "execution_count": 18,
   "metadata": {},
   "outputs": [
    {
     "data": {
      "text/plain": [
       "card    120\n",
       "bank     16\n",
       "ach      13\n",
       "Name: payment_type, dtype: int64"
      ]
     },
     "execution_count": 18,
     "metadata": {},
     "output_type": "execute_result"
    }
   ],
   "source": [
    "frauddf.payment_type.value_counts()"
   ]
  },
  {
   "cell_type": "code",
   "execution_count": 19,
   "metadata": {},
   "outputs": [
    {
     "data": {
      "text/plain": [
       "card    1100\n",
       "bank     771\n",
       "ach      129\n",
       "Name: payment_type, dtype: int64"
      ]
     },
     "execution_count": 19,
     "metadata": {},
     "output_type": "execute_result"
    }
   ],
   "source": [
    "nfrauddf.payment_type.value_counts()"
   ]
  },
  {
   "cell_type": "markdown",
   "metadata": {},
   "source": [
    "Now, lets create a simple logistic model to classify fraudulent and non-fradulent customers.\n",
    "\n",
    "Lets import required modules and create a dataframe with suitable numeric features:"
   ]
  },
  {
   "cell_type": "code",
   "execution_count": 20,
   "metadata": {},
   "outputs": [],
   "source": [
    "from sklearn.linear_model import LogisticRegression\n",
    "from sklearn.metrics import classification_report\n",
    "from sklearn.model_selection import train_test_split"
   ]
  },
  {
   "cell_type": "code",
   "execution_count": 21,
   "metadata": {},
   "outputs": [],
   "source": [
    "tdf  = joineddf[['customer_id','request_id', 'cst_age','cst_profile_age_days','suspicious_cst','payment_type','amount_eur','fraudulent_cst']]\n",
    "tdf.dropna(inplace=True)\n",
    "tdf = tdf.join(pd.get_dummies(tdf.payment_type))"
   ]
  },
  {
   "cell_type": "code",
   "execution_count": 22,
   "metadata": {},
   "outputs": [],
   "source": [
    "X = tdf[['cst_age', 'cst_profile_age_days',\n",
    "       'suspicious_cst', 'amount_eur', 'ach',\n",
    "       'bank', 'card']]\n",
    "y = tdf['fraudulent_cst']"
   ]
  },
  {
   "cell_type": "markdown",
   "metadata": {},
   "source": [
    "Normalize numeric features:"
   ]
  },
  {
   "cell_type": "code",
   "execution_count": 23,
   "metadata": {},
   "outputs": [],
   "source": [
    "for feature in ['cst_age','cst_profile_age_days','amount_eur']:\n",
    "        X[feature] -= X[feature].mean()\n",
    "        X[feature] /= X[feature].std()"
   ]
  },
  {
   "cell_type": "code",
   "execution_count": 24,
   "metadata": {},
   "outputs": [],
   "source": [
    "model = LogisticRegression()\n",
    "X_train, X_test, y_train, y_test = train_test_split(X, y, test_size=0.2, random_state=0)\n",
    "model.fit(X_train, y_train)\n",
    "y_pred = model.predict(X_test)"
   ]
  },
  {
   "cell_type": "code",
   "execution_count": 25,
   "metadata": {},
   "outputs": [
    {
     "name": "stdout",
     "output_type": "stream",
     "text": [
      "             precision    recall  f1-score   support\n",
      "\n",
      "          0       0.96      0.99      0.97       365\n",
      "          1       0.83      0.53      0.64        36\n",
      "\n",
      "avg / total       0.94      0.95      0.94       401\n",
      "\n"
     ]
    }
   ],
   "source": [
    "print(classification_report(y_test, y_pred))"
   ]
  },
  {
   "cell_type": "markdown",
   "metadata": {},
   "source": [
    "As we can see from above report, the model can precisely predict the fraudulent customer 83% of the times, which is not that bad.\n",
    "\n",
    "Now let's see the features importance for this model and make some inference."
   ]
  },
  {
   "cell_type": "code",
   "execution_count": 26,
   "metadata": {},
   "outputs": [
    {
     "data": {
      "text/plain": [
       "array([[ 0.85307096, -3.23340572,  2.58254703, -0.12428849, -1.66021923,\n",
       "        -1.86843589, -0.67744013]])"
      ]
     },
     "execution_count": 26,
     "metadata": {},
     "output_type": "execute_result"
    }
   ],
   "source": [
    "model.coef_"
   ]
  },
  {
   "cell_type": "code",
   "execution_count": 27,
   "metadata": {},
   "outputs": [
    {
     "data": {
      "text/plain": [
       "Index(['cst_age', 'cst_profile_age_days', 'suspicious_cst', 'amount_eur',\n",
       "       'ach', 'bank', 'card'],\n",
       "      dtype='object')"
      ]
     },
     "execution_count": 27,
     "metadata": {},
     "output_type": "execute_result"
    }
   ],
   "source": [
    "X.columns"
   ]
  },
  {
   "cell_type": "markdown",
   "metadata": {},
   "source": [
    "As we can see that the most important featrures are suspicious_cst and cst_age.\n",
    "\n",
    "**PART 3**"
   ]
  },
  {
   "cell_type": "markdown",
   "metadata": {},
   "source": [
    "**From all the anaylysis above and the logistic model, I can say that we should look for cst_age,suspicious_cst and if the destination currency is PHP if we wish to find the fraudulent customers and check their data before proceeding with the transaction, if these features fall in the fradulent zone we should stop that transaction and do manual checks to make sure its not fraudulent and if not then we should let the transaction happen automatically, to minimize the impact on our good customers. We can use the logistic model for automation too, but based on the amount of data, I would rather train this model again with more data or create more sophisticated model.**"
   ]
  }
 ],
 "metadata": {
  "kernelspec": {
   "display_name": "Python 3",
   "language": "python",
   "name": "python3"
  },
  "language_info": {
   "codemirror_mode": {
    "name": "ipython",
    "version": 3
   },
   "file_extension": ".py",
   "mimetype": "text/x-python",
   "name": "python",
   "nbconvert_exporter": "python",
   "pygments_lexer": "ipython3",
   "version": "3.6.5"
  }
 },
 "nbformat": 4,
 "nbformat_minor": 2
}
